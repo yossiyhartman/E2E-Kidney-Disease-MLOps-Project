{
 "cells": [
  {
   "cell_type": "code",
   "execution_count": 1,
   "id": "c27d1855",
   "metadata": {},
   "outputs": [],
   "source": [
    "import os"
   ]
  },
  {
   "cell_type": "code",
   "execution_count": 2,
   "id": "622e26fb",
   "metadata": {},
   "outputs": [
    {
     "name": "stdout",
     "output_type": "stream",
     "text": [
      "/Users/yyh/Documents/selfstudy/E2E-Kidney-Disease-MLOps-Project\n"
     ]
    }
   ],
   "source": [
    "# this makes the parent file the current working directory\n",
    "# NOTE - Restart whole notebook otherwise the wrong working directory will be set\n",
    "os.chdir(\"../\")\n",
    "\n",
    "print(os.getcwd())"
   ]
  },
  {
   "cell_type": "code",
   "execution_count": 3,
   "id": "4012dedf",
   "metadata": {},
   "outputs": [],
   "source": [
    "import os\n",
    "import zipfile\n",
    "import gdown\n",
    "import torch\n",
    "\n",
    "from torchvision import datasets, transforms\n",
    "from torch.utils.data import DataLoader, random_split\n",
    "from dataclasses import dataclass\n",
    "from pathlib import Path\n",
    "\n",
    "from KidneyDiseasePrediction.constants import CONFIG_FILE_PATH, PARAMS_FILE_PATH\n",
    "from KidneyDiseasePrediction.utils.common import read_yaml, create_directories, get_size\n",
    "\n",
    "\n",
    "@dataclass(frozen=True)\n",
    "class ModelTrainingConfig:\n",
    "    root_dir: Path\n",
    "    modified_base_model_path: Path\n",
    "    training_data: Path\n",
    "    trained_model_path: Path\n",
    "    params_epochs: int\n",
    "    params_batch_size: int\n",
    "    params_learning_rate: float\n",
    "    params_augmentation: bool\n",
    "\n",
    "\n",
    "class ConfigManager:\n",
    "    def __init__(self, config_file_path=CONFIG_FILE_PATH, params_file_path=PARAMS_FILE_PATH):\n",
    "\n",
    "        self.config = read_yaml(config_file_path)\n",
    "        self.params = read_yaml(params_file_path)\n",
    "\n",
    "        create_directories([self.config.artifacts_root])\n",
    "\n",
    "    def get_training_config(self) -> ModelTrainingConfig:\n",
    "\n",
    "        create_directories([self.config.model_training.root_dir])\n",
    "\n",
    "        model_training_config = ModelTrainingConfig(\n",
    "            root_dir=self.config.model_training.root_dir,\n",
    "            modified_base_model_path=self.config.base_model.modified_base_model_path,\n",
    "            training_data=os.path.join(self.config.data_ingestion.unzip_dir, \"dataset\"),\n",
    "            trained_model_path=self.config.model_training.trained_model_path,\n",
    "            params_epochs=self.params.EPOCHS,\n",
    "            params_batch_size=self.params.BATCH_SIZE,\n",
    "            params_learning_rate=self.params.LEARNING_RATE,\n",
    "            params_augmentation=self.params.AUGMENTATION,\n",
    "        )\n",
    "\n",
    "        return model_training_config\n",
    "\n",
    "\n",
    "class Training:\n",
    "    def __init__(self, config: ModelTrainingConfig):\n",
    "        self.config = config\n",
    "\n",
    "    def get_base_model(self):\n",
    "        self.model = torch.load(self.config.modified_base_model_path, weights_only=False)\n",
    "\n",
    "    def train_valid_generators(self):\n",
    "\n",
    "        transform = transforms.Compose([transforms.Resize((224, 224)), transforms.ToTensor(), transforms.Normalize(mean=[0.5], std=[0.5])])\n",
    "        dataset = datasets.ImageFolder(root=self.config.training_data, transform=transform)\n",
    "\n",
    "        train_size = int(0.8 * len(dataset))\n",
    "        valid_size = len(dataset) - train_size\n",
    "        train_dataset, valid_dataset = random_split(dataset, [train_size, valid_size])\n",
    "\n",
    "        self.train_loader = DataLoader(train_dataset, batch_size=self.config.params_batch_size, shuffle=True)\n",
    "        self.valid_loader = DataLoader(valid_dataset, batch_size=self.config.params_batch_size, shuffle=False)\n",
    "\n",
    "    def train_model(self):\n",
    "        criterion = torch.nn.CrossEntropyLoss()\n",
    "        optimizer = torch.optim.Adam(self.model.parameters(), lr=self.config.params_learning_rate)\n",
    "\n",
    "        for epoch in range(self.config.params_epochs):\n",
    "            self.model.train()\n",
    "            for images, labels in self.train_loader:\n",
    "                optimizer.zero_grad()\n",
    "                outputs = self.model(images)\n",
    "                loss = criterion(outputs, labels)\n",
    "                loss.backward()\n",
    "                optimizer.step()\n",
    "\n",
    "            print(f\"Epoch [{epoch + 1}/{self.config.params_epochs}], Loss: {loss.item():.4f}\")\n",
    "\n",
    "        self.save_model(self.config.trained_model_path, self.model)\n",
    "\n",
    "    @staticmethod\n",
    "    def save_model(path: Path, model: torch.nn.Module):\n",
    "        torch.save(model, path)"
   ]
  },
  {
   "cell_type": "code",
   "execution_count": 4,
   "id": "0835ae4d",
   "metadata": {},
   "outputs": [
    {
     "name": "stdout",
     "output_type": "stream",
     "text": [
      "2025-07-10 15:04:27,713 - INFO - common - YAML file config/config.yaml loaded successfully.\n",
      "2025-07-10 15:04:27,715 - INFO - common - YAML file params.yaml loaded successfully.\n",
      "2025-07-10 15:04:27,715 - INFO - common - Directory artifacts created at artifacts\n",
      "2025-07-10 15:04:27,716 - INFO - common - Directory artifacts/training created at artifacts/training\n",
      "Epoch [1/1], Loss: 0.0068\n"
     ]
    }
   ],
   "source": [
    "try:\n",
    "    config_manager = ConfigManager()\n",
    "    model_training_config = config_manager.get_training_config()\n",
    "    model_training = Training(model_training_config)\n",
    "    model_training.get_base_model()\n",
    "    model_training.train_valid_generators()\n",
    "    model_training.train_model()\n",
    "\n",
    "except Exception as e:\n",
    "    raise e"
   ]
  }
 ],
 "metadata": {
  "kernelspec": {
   "display_name": "kidney-prediction",
   "language": "python",
   "name": "python3"
  },
  "language_info": {
   "codemirror_mode": {
    "name": "ipython",
    "version": 3
   },
   "file_extension": ".py",
   "mimetype": "text/x-python",
   "name": "python",
   "nbconvert_exporter": "python",
   "pygments_lexer": "ipython3",
   "version": "3.11.13"
  }
 },
 "nbformat": 4,
 "nbformat_minor": 5
}
