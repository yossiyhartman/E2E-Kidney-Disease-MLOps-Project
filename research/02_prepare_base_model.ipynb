{
 "cells": [
  {
   "cell_type": "code",
   "execution_count": 1,
   "id": "c27d1855",
   "metadata": {},
   "outputs": [],
   "source": [
    "import os"
   ]
  },
  {
   "cell_type": "code",
   "execution_count": 2,
   "id": "622e26fb",
   "metadata": {},
   "outputs": [
    {
     "name": "stdout",
     "output_type": "stream",
     "text": [
      "/Users/yyh/Documents/selfstudy/E2E-Kidney-Disease-MLOps-Project\n"
     ]
    }
   ],
   "source": [
    "# this makes the parent file the current working directory\n",
    "# NOTE - Restart whole notebook otherwise the wrong working directory will be set\n",
    "os.chdir(\"../\")\n",
    "\n",
    "print(os.getcwd())"
   ]
  },
  {
   "cell_type": "code",
   "execution_count": null,
   "id": "4012dedf",
   "metadata": {},
   "outputs": [],
   "source": [
    "import os\n",
    "import zipfile\n",
    "import gdown\n",
    "import torch\n",
    "\n",
    "from dataclasses import dataclass\n",
    "from pathlib import Path\n",
    "from torchvision.models import vgg16\n",
    "\n",
    "from KidneyDiseasePrediction.constants import CONFIG_FILE_PATH, PARAMS_FILE_PATH\n",
    "from KidneyDiseasePrediction.utils.common import read_yaml, create_directories, get_size\n",
    "\n",
    "\n",
    "@dataclass(frozen=True)\n",
    "class BaseModelConfig:\n",
    "    root_dir: Path\n",
    "    base_model_path: Path\n",
    "    modified_base_model_path: Path\n",
    "    params_learning_rate: float\n",
    "    params_weights: str\n",
    "    params_classes: int\n",
    "    params_freeze_ratio: float\n",
    "\n",
    "\n",
    "class ConfigManager:\n",
    "    def __init__(self, config_file_path=CONFIG_FILE_PATH, params_file_path=PARAMS_FILE_PATH):\n",
    "        self.config = read_yaml(config_file_path)\n",
    "        self.params = read_yaml(params_file_path)\n",
    "\n",
    "        create_directories([self.config.artifacts_root])\n",
    "\n",
    "    def get_base_model_config(self) -> BaseModelConfig:\n",
    "\n",
    "        config = self.config.base_model\n",
    "\n",
    "        create_directories([config.root_dir])\n",
    "\n",
    "        base_model_config = BaseModelConfig(\n",
    "            root_dir=Path(config.root_dir),\n",
    "            base_model_path=Path(config.base_model_path),\n",
    "            modified_base_model_path=Path(config.modified_base_model_path),\n",
    "            params_learning_rate=self.params.LEARNING_RATE,\n",
    "            params_weights=self.params.WEIGHTS,\n",
    "            params_classes=self.params.CLASSES,\n",
    "            params_freeze_ratio=self.params.FREEZE_RATIO,\n",
    "        )\n",
    "\n",
    "        return base_model_config\n",
    "\n",
    "\n",
    "class BaseModel:\n",
    "    def __init__(self, config: BaseModelConfig):\n",
    "        self.config = config\n",
    "\n",
    "    def get_base_model(self):\n",
    "        self.model = vgg16(weights=self.config.params_weights)\n",
    "        self.save_model(self.config.base_model_path, self.model)\n",
    "\n",
    "    def modify_base_model(self):\n",
    "        layers = list(self.model.features.children())\n",
    "        total_layers = len(layers)\n",
    "        freeze_until = int(total_layers * self.config.params_freeze_ratio)\n",
    "\n",
    "        for i, layer in enumerate(layers):\n",
    "            if i < freeze_until:\n",
    "                for param in layer.parameters():\n",
    "                    param.requires_grad = False\n",
    "\n",
    "        self.model.classifier[6] = torch.nn.Linear(in_features=4096, out_features=self.config.params_classes)\n",
    "\n",
    "        self.save_model(self.config.modified_base_model_path, self.model)\n",
    "\n",
    "    @staticmethod\n",
    "    def save_model(path: Path, model: torch.nn.Module):\n",
    "        torch.save(model, path)"
   ]
  },
  {
   "cell_type": "code",
   "execution_count": 12,
   "id": "0835ae4d",
   "metadata": {},
   "outputs": [
    {
     "name": "stdout",
     "output_type": "stream",
     "text": [
      "2025-07-10 13:48:47,698 - INFO - common - YAML file config/config.yaml loaded successfully.\n",
      "2025-07-10 13:48:47,700 - INFO - common - YAML file params.yaml loaded successfully.\n",
      "2025-07-10 13:48:47,701 - INFO - common - Directory artifacts created at artifacts\n",
      "2025-07-10 13:48:47,702 - INFO - common - Directory artifacts/base_model created at artifacts/base_model\n"
     ]
    }
   ],
   "source": [
    "try:\n",
    "    config_manager = ConfigManager()\n",
    "    base_model_config = config_manager.get_base_model_config()\n",
    "    base_model = BaseModel(base_model_config)\n",
    "    base_model.get_base_model()\n",
    "    base_model.modify_base_model()\n",
    "\n",
    "except Exception as e:\n",
    "    raise e"
   ]
  }
 ],
 "metadata": {
  "kernelspec": {
   "display_name": "kidney-prediction",
   "language": "python",
   "name": "python3"
  },
  "language_info": {
   "codemirror_mode": {
    "name": "ipython",
    "version": 3
   },
   "file_extension": ".py",
   "mimetype": "text/x-python",
   "name": "python",
   "nbconvert_exporter": "python",
   "pygments_lexer": "ipython3",
   "version": "3.11.13"
  }
 },
 "nbformat": 4,
 "nbformat_minor": 5
}
