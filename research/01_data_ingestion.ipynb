{
 "cells": [
  {
   "cell_type": "code",
   "execution_count": 1,
   "id": "9678cac1",
   "metadata": {},
   "outputs": [],
   "source": [
    "import os"
   ]
  },
  {
   "cell_type": "code",
   "execution_count": 2,
   "id": "ed41006e",
   "metadata": {},
   "outputs": [
    {
     "name": "stdout",
     "output_type": "stream",
     "text": [
      "/Users/yyh/Documents/selfstudy/E2E-Kidney-Disease-MLOps-Project\n"
     ]
    }
   ],
   "source": [
    "# this makes the parent file the current working directory\n",
    "# NOTE - Restart whole notebook otherwise the wrong working directory will be set\n",
    "os.chdir(\"../\")\n",
    "\n",
    "print(os.getcwd())"
   ]
  },
  {
   "cell_type": "code",
   "execution_count": 3,
   "id": "d31da55e",
   "metadata": {},
   "outputs": [],
   "source": [
    "import os\n",
    "import zipfile\n",
    "import gdown\n",
    "\n",
    "from dataclasses import dataclass\n",
    "from pathlib import Path\n",
    "\n",
    "from KidneyDiseasePrediction import logger\n",
    "from KidneyDiseasePrediction.constants import CONFIG_FILE_PATH, PARAMS_FILE_PATH\n",
    "from KidneyDiseasePrediction.utils.common import read_yaml, create_directories, get_size\n",
    "\n",
    "\n",
    "@dataclass(frozen=True)\n",
    "class DataIngestionConfig:\n",
    "    root_dir: Path\n",
    "    source_url: str\n",
    "    local_data_file: Path\n",
    "    unzip_dir: Path\n",
    "\n",
    "\n",
    "class ConfigManager:\n",
    "    def __init__(self, config_file_path=CONFIG_FILE_PATH, params_file_path=PARAMS_FILE_PATH):\n",
    "        self.config = read_yaml(config_file_path)\n",
    "        self.params = read_yaml(params_file_path)\n",
    "\n",
    "        create_directories([self.config.artifacts_root])\n",
    "\n",
    "    def get_data_ingestion_config(self) -> DataIngestionConfig:\n",
    "\n",
    "        config = self.config.data_ingestion\n",
    "        create_directories([config.root_dir])\n",
    "\n",
    "        data_ingestion_config = DataIngestionConfig(\n",
    "            root_dir=config.root_dir,\n",
    "            source_url=config.source_url,\n",
    "            local_data_file=config.local_data_file,\n",
    "            unzip_dir=config.unzip_dir,\n",
    "        )\n",
    "\n",
    "        return data_ingestion_config\n",
    "\n",
    "\n",
    "class DataIngestion:\n",
    "    def __init__(self, config: DataIngestionConfig):\n",
    "        self.config = config\n",
    "\n",
    "    def download_file(self):\n",
    "        try:\n",
    "\n",
    "            dataset_url = self.config.source_url\n",
    "            zip_download_url = self.config.local_data_file\n",
    "\n",
    "            # why not also use the config path ?\n",
    "            os.makedirs(\"artifacts/data_ingestion\", exist_ok=True)\n",
    "            logger.info(f\"Downloading dataset from {dataset_url} to {zip_download_url}\")\n",
    "\n",
    "            file_id = dataset_url.split(\"/\")[-2]\n",
    "            prefix = \"https://drive.google.com/uc?export=download&id=\"\n",
    "            gdown.download(f\"{prefix}{file_id}\", zip_download_url)\n",
    "\n",
    "            logger.info(f\"Downloaded dataset to {zip_download_url}\")\n",
    "\n",
    "        except Exception as e:\n",
    "            raise e\n",
    "\n",
    "    def extract_zip_file(self):\n",
    "\n",
    "        unzip_path = self.config.unzip_dir\n",
    "\n",
    "        os.makedirs(unzip_path, exist_ok=True)\n",
    "\n",
    "        with zipfile.ZipFile(self.config.local_data_file, \"r\") as zip_ref:\n",
    "            zip_ref.extractall(unzip_path)"
   ]
  },
  {
   "cell_type": "code",
   "execution_count": 4,
   "id": "e1531ac1",
   "metadata": {},
   "outputs": [
    {
     "name": "stdout",
     "output_type": "stream",
     "text": [
      "2025-07-10 10:39:40,678 - INFO - common - YAML file config/config.yaml loaded successfully.\n",
      "2025-07-10 10:39:40,679 - INFO - common - YAML file params.yaml loaded successfully.\n",
      "2025-07-10 10:39:40,680 - INFO - common - Directory artifacts created at artifacts\n",
      "2025-07-10 10:39:40,680 - INFO - common - Directory artifacts/data_ingestion created at artifacts/data_ingestion\n",
      "2025-07-10 10:39:40,681 - INFO - 3617860386 - Downloading dataset from https://drive.google.com/file/d/1jsHsEOQWO36My3YWQQ_IbnxCBlRrDQIS/view?usp=sharing to artifacts/data_ingestion/dataset.zip\n"
     ]
    },
    {
     "name": "stderr",
     "output_type": "stream",
     "text": [
      "Downloading...\n",
      "From (original): https://drive.google.com/uc?export=download&id=1jsHsEOQWO36My3YWQQ_IbnxCBlRrDQIS\n",
      "From (redirected): https://drive.google.com/uc?export=download&id=1jsHsEOQWO36My3YWQQ_IbnxCBlRrDQIS&confirm=t&uuid=94e75b6a-3c7b-4078-a174-1939190efb78\n",
      "To: /Users/yyh/Documents/selfstudy/E2E-Kidney-Disease-MLOps-Project/artifacts/data_ingestion/dataset.zip\n",
      "100%|██████████| 1.63G/1.63G [00:21<00:00, 74.5MB/s]"
     ]
    },
    {
     "name": "stdout",
     "output_type": "stream",
     "text": [
      "2025-07-10 10:40:04,670 - INFO - 3617860386 - Downloaded dataset to artifacts/data_ingestion/dataset.zip\n"
     ]
    },
    {
     "name": "stderr",
     "output_type": "stream",
     "text": [
      "\n"
     ]
    }
   ],
   "source": [
    "# Create a pipline\n",
    "\n",
    "try:\n",
    "    # NOTE - figure out if this is necessary\n",
    "    config = ConfigManager()\n",
    "    data_ingestion_config = config.get_data_ingestion_config()\n",
    "    data_ingestion = DataIngestion(config=data_ingestion_config)\n",
    "\n",
    "    data_ingestion.download_file()\n",
    "    data_ingestion.extract_zip_file()\n",
    "\n",
    "except Exception as e:\n",
    "    raise e"
   ]
  }
 ],
 "metadata": {
  "kernelspec": {
   "display_name": "kidney-prediction",
   "language": "python",
   "name": "python3"
  },
  "language_info": {
   "codemirror_mode": {
    "name": "ipython",
    "version": 3
   },
   "file_extension": ".py",
   "mimetype": "text/x-python",
   "name": "python",
   "nbconvert_exporter": "python",
   "pygments_lexer": "ipython3",
   "version": "3.11.13"
  }
 },
 "nbformat": 4,
 "nbformat_minor": 5
}
